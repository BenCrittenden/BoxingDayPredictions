{
 "cells": [
  {
   "cell_type": "code",
   "execution_count": 1,
   "metadata": {},
   "outputs": [],
   "source": [
    "import pandas as pd\n",
    "import requests\n",
    "import glob\n",
    "import os\n",
    "\n",
    "import ipywidgets as widgets\n",
    "from IPython.display import display"
   ]
  },
  {
   "cell_type": "code",
   "execution_count": 2,
   "metadata": {},
   "outputs": [],
   "source": [
    "def build_league_table(df, live_scores):\n",
    "    \n",
    "    df_analysis = pd.merge(\n",
    "        df,\n",
    "        live_scores,\n",
    "        how='outer',\n",
    "        on=['Home']\n",
    "    )\n",
    "\n",
    "    df_analysis['person_direction'] = df_analysis.apply(person_direction, axis=1)\n",
    "    df_analysis['live_direction'] = df_analysis.apply(live_direction, axis=1)\n",
    "    df_analysis['points'] = df_analysis.apply(calculate_points, axis=1)\n",
    "    \n",
    "    return df_analysis.groupby('Name')['points'].sum().to_frame().sort_values('points', ascending=False).reset_index()"
   ]
  },
  {
   "cell_type": "code",
   "execution_count": 3,
   "metadata": {},
   "outputs": [],
   "source": [
    "def person_direction(row):\n",
    "    \n",
    "    if row['Home score'] > row['Away score']:\n",
    "        return 'H'\n",
    "    elif row['Home score'] < row['Away score']:\n",
    "        return 'A'\n",
    "    else:\n",
    "        return 'D'"
   ]
  },
  {
   "cell_type": "code",
   "execution_count": 4,
   "metadata": {},
   "outputs": [],
   "source": [
    "def live_direction(row):\n",
    "    \n",
    "    if row['home_live'] > row['away_live']:\n",
    "        return 'H'\n",
    "    elif row['home_live'] < row['away_live']:\n",
    "        return 'A'\n",
    "    else:\n",
    "        return 'D'"
   ]
  },
  {
   "cell_type": "code",
   "execution_count": 5,
   "metadata": {},
   "outputs": [],
   "source": [
    "def calculate_points(row):\n",
    "    \n",
    "    if row['person_direction'] == row['live_direction']:\n",
    "        if (row['Home score'] == row['home_live']) & (row['Away score'] == row['away_live']):\n",
    "            return 3\n",
    "        else:\n",
    "            return 1\n",
    "    else:\n",
    "        return 0"
   ]
  },
  {
   "cell_type": "code",
   "execution_count": 6,
   "metadata": {},
   "outputs": [],
   "source": [
    "files = glob.glob(\"./predictions/*.xlsx\")\n",
    "\n",
    "predictions_everyone = []\n",
    "for f in files:\n",
    "    predictions = pd.read_excel(f,engine='openpyxl',)\n",
    "    predictions['Name'] = os.path.basename(f).split('.')[0]\n",
    "    predictions_everyone += [predictions]\n",
    "    \n",
    "df = pd.concat(predictions_everyone)\n",
    "df = df.fillna(value=0, inplace=False)\n",
    "df['Joker'] = df['Joker'].astype(int)"
   ]
  },
  {
   "cell_type": "code",
   "execution_count": 7,
   "metadata": {},
   "outputs": [],
   "source": [
    "live_scores = pd.read_excel(\"./live/live_scores.xlsx\",engine='openpyxl')\n",
    "live_scores.columns = ['Home','home_live','v','away_live','Away']"
   ]
  },
  {
   "cell_type": "markdown",
   "metadata": {},
   "source": [
    "# Boxing Day Football Predictions 2020"
   ]
  },
  {
   "cell_type": "markdown",
   "metadata": {},
   "source": [
    "## How they stand!"
   ]
  },
  {
   "cell_type": "code",
   "execution_count": 8,
   "metadata": {},
   "outputs": [
    {
     "data": {
      "application/vnd.jupyter.widget-view+json": {
       "model_id": "7d4a405366c749488500ad4e38dc81e3",
       "version_major": 2,
       "version_minor": 0
      },
      "text/plain": [
       "Button(description='Refresh Table', style=ButtonStyle())"
      ]
     },
     "metadata": {},
     "output_type": "display_data"
    },
    {
     "data": {
      "application/vnd.jupyter.widget-view+json": {
       "model_id": "7fa9adc67caf45bf8f6239f49e7da890",
       "version_major": 2,
       "version_minor": 0
      },
      "text/plain": [
       "Output()"
      ]
     },
     "metadata": {},
     "output_type": "display_data"
    }
   ],
   "source": [
    "button = widgets.Button(description=\"Refresh Table\")\n",
    "output = widgets.Output()\n",
    "\n",
    "display(button, output)\n",
    "\n",
    "def on_league_button_clicked(b):\n",
    "    with output:\n",
    "        display(build_league_table(df, live_scores))\n",
    "\n",
    "button.on_click(on_league_button_clicked)"
   ]
  },
  {
   "cell_type": "markdown",
   "metadata": {},
   "source": [
    "## Look up someone's predictions"
   ]
  },
  {
   "cell_type": "code",
   "execution_count": 9,
   "metadata": {},
   "outputs": [
    {
     "data": {
      "application/vnd.jupyter.widget-view+json": {
       "model_id": "515cd889fc0a4f0e8f4ab0a56d4ce2e7",
       "version_major": 2,
       "version_minor": 0
      },
      "text/plain": [
       "Dropdown(description='Person', options=('Dave', 'Dano', 'Ben'), value='Dave')"
      ]
     },
     "metadata": {},
     "output_type": "display_data"
    }
   ],
   "source": [
    "options = df['Name'].unique()\n",
    "person_dropdown = widgets.Dropdown(\n",
    "    options=options,\n",
    "    value=options[0],\n",
    "    description='Person',\n",
    "    disabled=False,\n",
    ")\n",
    "display(person_dropdown)"
   ]
  },
  {
   "cell_type": "code",
   "execution_count": 10,
   "metadata": {},
   "outputs": [
    {
     "data": {
      "application/vnd.jupyter.widget-view+json": {
       "model_id": "98949141b2fd4327ae5681d3a9310c67",
       "version_major": 2,
       "version_minor": 0
      },
      "text/plain": [
       "Button(description='Refresh', style=ButtonStyle())"
      ]
     },
     "metadata": {},
     "output_type": "display_data"
    },
    {
     "data": {
      "application/vnd.jupyter.widget-view+json": {
       "model_id": "43308611c5614668a6452f8d88e2e89f",
       "version_major": 2,
       "version_minor": 0
      },
      "text/plain": [
       "Output()"
      ]
     },
     "metadata": {},
     "output_type": "display_data"
    }
   ],
   "source": [
    "person_button = widgets.Button(description=\"Refresh\")\n",
    "output = widgets.Output()\n",
    "\n",
    "display(person_button, output)\n",
    "\n",
    "def on_person_button_clicked(b):\n",
    "    with output:\n",
    "        display(df.loc[df['Name']==person_dropdown.value].drop('Name', axis=1))\n",
    "\n",
    "person_button.on_click(on_person_button_clicked)"
   ]
  },
  {
   "cell_type": "markdown",
   "metadata": {},
   "source": [
    "## Look up the predictions for a fixture"
   ]
  },
  {
   "cell_type": "code",
   "execution_count": 11,
   "metadata": {},
   "outputs": [
    {
     "data": {
      "application/vnd.jupyter.widget-view+json": {
       "model_id": "47ade1a723da45c283574ff82c80a176",
       "version_major": 2,
       "version_minor": 0
      },
      "text/plain": [
       "Dropdown(description='Fixture:', options=('Leicester City', 'Burnley', 'Chelsea'), value='Leicester City')"
      ]
     },
     "metadata": {},
     "output_type": "display_data"
    }
   ],
   "source": [
    "options = df['Home'].unique() \n",
    "fixture_dropdown = widgets.Dropdown(\n",
    "    options=options,\n",
    "    value=options[0],\n",
    "    description='Fixture:',\n",
    "    disabled=False,\n",
    ")\n",
    "\n",
    "display(fixture_dropdown)"
   ]
  },
  {
   "cell_type": "code",
   "execution_count": 12,
   "metadata": {},
   "outputs": [
    {
     "data": {
      "application/vnd.jupyter.widget-view+json": {
       "model_id": "24ef9457f2fe4054b0cc8f72caf3a8df",
       "version_major": 2,
       "version_minor": 0
      },
      "text/plain": [
       "Button(description='Refresh', style=ButtonStyle())"
      ]
     },
     "metadata": {},
     "output_type": "display_data"
    },
    {
     "data": {
      "application/vnd.jupyter.widget-view+json": {
       "model_id": "290b7e1fa655436b8516ec9ccecdace5",
       "version_major": 2,
       "version_minor": 0
      },
      "text/plain": [
       "Output()"
      ]
     },
     "metadata": {},
     "output_type": "display_data"
    }
   ],
   "source": [
    "fixture_button = widgets.Button(description=\"Refresh\")\n",
    "output = widgets.Output()\n",
    "\n",
    "display(fixture_button, output)\n",
    "\n",
    "def on_fixture_button_clicked(b):\n",
    "    with output:\n",
    "        display(df.loc[df['Home']==fixture_dropdown.value].drop('Name', axis=1))\n",
    "\n",
    "fixture_button.on_click(on_fixture_button_clicked)"
   ]
  }
 ],
 "metadata": {
  "kernelspec": {
   "display_name": "Python 3",
   "language": "python",
   "name": "python3"
  },
  "language_info": {
   "codemirror_mode": {
    "name": "ipython",
    "version": 3
   },
   "file_extension": ".py",
   "mimetype": "text/x-python",
   "name": "python",
   "nbconvert_exporter": "python",
   "pygments_lexer": "ipython3",
   "version": "3.8.3"
  }
 },
 "nbformat": 4,
 "nbformat_minor": 4
}
